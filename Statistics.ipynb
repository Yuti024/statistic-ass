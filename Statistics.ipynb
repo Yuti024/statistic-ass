{
  "nbformat": 4,
  "nbformat_minor": 0,
  "metadata": {
    "colab": {
      "provenance": []
    },
    "kernelspec": {
      "name": "python3",
      "display_name": "Python 3"
    },
    "language_info": {
      "name": "python"
    }
  },
  "cells": [
    {
      "cell_type": "markdown",
      "source": [
        "# Statistics Advanced - 1| Assignment\n"
      ],
      "metadata": {
        "id": "vA7JBanjvlyE"
      }
    },
    {
      "cell_type": "markdown",
      "source": [
        "Question 9: Write a Python program to generate 1000 random numbers from a normal\n",
        "distribution with mean = 50 and standard deviation = 5. Compute its mean and standard\n",
        "deviation using NumPy, and draw a histogram to visualize the distribution.\n",
        "(Include your Python code and output in the code box below.)\n",
        "\n",
        "Answer :"
      ],
      "metadata": {
        "id": "phS43WZC0ZqE"
      }
    },
    {
      "cell_type": "code",
      "execution_count": 1,
      "metadata": {
        "colab": {
          "base_uri": "https://localhost:8080/",
          "height": 507
        },
        "id": "f1lTmkJxvZGg",
        "outputId": "80b3bcc8-fb5f-4254-d6ae-d0fb259cc7d7"
      },
      "outputs": [
        {
          "output_type": "stream",
          "name": "stdout",
          "text": [
            "Calculated Mean: 50.05897984631003\n",
            "Calculated Standard Deviation: 4.976151941955024\n"
          ]
        },
        {
          "output_type": "display_data",
          "data": {
            "text/plain": [
              "<Figure size 640x480 with 1 Axes>"
            ],
            "image/png": "[encoded data removed]"
          },
          "metadata": {}
        }
      ],
      "source": [
        "import numpy as np\n",
        "import matplotlib.pyplot as plt\n",
        "\n",
        "mean = 50\n",
        "std_dev = 5\n",
        "size = 1000\n",
        "\n",
        "data = np.random.normal(mean, std_dev, size)\n",
        "\n",
        "calculated_mean = np.mean(data)\n",
        "calculated_std = np.std(data)\n",
        "\n",
        "print(\"Calculated Mean:\", calculated_mean)\n",
        "print(\"Calculated Standard Deviation:\", calculated_std)\n",
        "\n",
        "plt.hist(data, bins=30, edgecolor='black', alpha=0.7)\n",
        "plt.title(\"Histogram of Normally Distributed Data\")\n",
        "plt.xlabel(\"Value\")\n",
        "plt.ylabel(\"Frequency\")\n",
        "plt.grid(axis='y', alpha=0.3)\n",
        "plt.show()\n"
      ]
    },
    {
      "cell_type": "markdown",
      "source": [
        "Question 10: You are working as a data analyst for a retail company. The company has\n",
        "collected daily sales data for 2 years and wants you to identify the overall sales trend.\n",
        "\n",
        "daily_sales = [220, 245, 210, 265, 230, 250, 260, 275, 240, 255,\n",
        "235, 260, 245, 250, 225, 270, 265, 255, 250, 260]\n",
        "\n",
        "● Explain how you would apply the Central Limit Theorem to estimate the average sales\n",
        "\n",
        "with a 95% confidence interval.\n",
        "\n",
        "● Write the Python code to compute the mean sales and its confidence interval.\n",
        "\n",
        "(Include your Python code and output in the code box below.)\n",
        "\n",
        "Answer:"
      ],
      "metadata": {
        "id": "lsRRQbv44zou"
      }
    },
    {
      "cell_type": "code",
      "source": [
        "import numpy as np\n",
        "import scipy.stats as stats\n",
        "\n",
        "sales = np.array([120, 150, 170, 130, 160, 180, 140, 155, 165, 175])\n",
        "\n",
        "mean_sales = np.mean(sales)\n",
        "\n",
        "sem = stats.sem(sales)\n",
        "\n",
        "confidence = 0.95\n",
        "\n",
        "ci = stats.t.interval(confidence, len(sales)-1, loc=mean_sales, scale=sem)\n",
        "\n",
        "print(\"Mean Sales:\", mean_sales)\n",
        "print(f\"{int(confidence*100)}% Confidence Interval: {ci}\")\n"
      ],
      "metadata": {
        "colab": {
          "base_uri": "https://localhost:8080/"
        },
        "id": "rtDoIeZD0k-A",
        "outputId": "03fd9c5f-3930-456e-fc6f-3165eae498c3"
      },
      "execution_count": 2,
      "outputs": [
        {
          "output_type": "stream",
          "name": "stdout",
          "text": [
            "Mean Sales: 154.5\n",
            "95% Confidence Interval: (np.float64(140.44850132952502), np.float64(168.55149867047498))\n"
          ]
        }
      ]
    },
    {
      "cell_type": "code",
      "source": [],
      "metadata": {
        "id": "wEiUMq3l1tnm"
      },
      "execution_count": null,
      "outputs": []
    }
  ]
}